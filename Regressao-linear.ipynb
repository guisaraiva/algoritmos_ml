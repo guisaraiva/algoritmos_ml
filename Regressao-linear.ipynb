{
 "cells": [
  {
   "cell_type": "code",
   "execution_count": null,
   "metadata": {},
   "outputs": [],
   "source": [
    "# Importação das bibliotecas que serão utilizadas no estudo do algoritmo.\n",
    "\n",
    "import pandas as pd\n",
    "from sklearn.linear_model import LinearRegression\n",
    "from sklearn.model_selection import train_test_split\n",
    "from sklearn.metrics import mean_squared_error\n",
    "import matplotlib.pyplot as plt\n",
    "import plotly.graph_objs as go\n",
    "import plotly.offline as py\n",
    "import plotly\n",
    "plotly.offline.init_notebook_mode()\n",
    "import datetime"
   ]
  },
  {
   "cell_type": "code",
   "execution_count": null,
   "metadata": {},
   "outputs": [],
   "source": [
    "# O conjunto de dados possui registrados dos preços da Petribrás entre 01/2010 até 11/2017.\n",
    "# Vamos utilizar esses dados para criar nosso modelo preditivo e comparar os respectivos valores.\n",
    "# Não irei utilizar o encoding, pois não temos dados textuais no conjunto de dados.\n",
    "\n",
    "cjdados = pd.read_csv('petr4.csv')"
   ]
  },
  {
   "cell_type": "code",
   "execution_count": null,
   "metadata": {},
   "outputs": [],
   "source": [
    "# Transformando a coluna Date em uma coluna do tipo Datetime\n",
    "\n",
    "cjdados['Date'] = pd.to_datetime(cjdados['Date'])"
   ]
  },
  {
   "cell_type": "code",
   "execution_count": null,
   "metadata": {},
   "outputs": [],
   "source": [
    "# Visualizando os dados com o método tail. O método tail() exibe os últimos registros.\n",
    "# O método head() exibe os primeiros registros.\n",
    "\n",
    "cjdados.tail()\n",
    "#cjdados.head()"
   ]
  },
  {
   "cell_type": "code",
   "execution_count": null,
   "metadata": {},
   "outputs": [],
   "source": [
    "# Variação entre o preco de abertura e fechamento.\n",
    "# Criando um coluna \"Variação\" para recebeer o resultado do valor de fechamento e valor de abertura.\n",
    "\n",
    "\n",
    "cjdados['Variation'] = cjdados['Close'].sub(cjdados['Open'])"
   ]
  },
  {
   "cell_type": "code",
   "execution_count": null,
   "metadata": {},
   "outputs": [],
   "source": [
    "# Criar gráfico com os valores dos preços no periodo analisado 2010 a 2017.\n",
    "# Utiliza a biblioteca pyplot para plotar dados financeiros temporais.\n",
    "# Documentação do Matplotlib no link https://matplotlib.org/contents.html\n",
    "\n",
    "x1 = cjdados.Date\n",
    "y1 = cjdados.Close\n",
    "data = [go.Scatter(x = x1, y = y1)]\n",
    "layout = go.Layout(\n",
    "    xaxis = dict(\n",
    "        range = ['01-01-2010','11-04-2017'],\n",
    "        title = 'Ano'              \n",
    "    ),\n",
    "    yaxis = dict(\n",
    "        range = [min(x1), max(y1)],\n",
    "        title = 'Valor da Ação'\n",
    "    ))\n",
    "fig = go.Figure(data = data, layout = layout)\n",
    "py.iplot(fig)"
   ]
  },
  {
   "cell_type": "code",
   "execution_count": null,
   "metadata": {},
   "outputs": [],
   "source": [
    "# Visualizando os Candlesticks através do gráfico.\n",
    "# Podemos observar que os parâmetros são as colunas do meu conjunto de dados que estamos inserindo na variável dados.\n",
    "\n",
    "cjdados2 = cjdados.head(7)\n",
    "dados = go.Candlestick(x = cjdados2.Date,\n",
    "                       open = cjdados2.Open,\n",
    "                       high = cjdados2.High,\n",
    "                       low = cjdados2.Low,\n",
    "                       close = cjdados2.Close,\n",
    "                       )\n",
    "\n",
    "data = [dados]\n",
    "py.offline.iplot(data,filename='grafico_candlestick')"
   ]
  },
  {
   "cell_type": "code",
   "execution_count": null,
   "metadata": {},
   "outputs": [],
   "source": [
    "# Visualizando precos em formato de Candlesticks dos últimos 6 meses.\n",
    "\n",
    "cjdados2 = cjdados.head(180)\n",
    "dados = go.Candlestick(x = cjdados2.Date,\n",
    "                       open = cjdados2.Open,\n",
    "                       high = cjdados2.High,\n",
    "                       low = cjdados2.Low,\n",
    "                       close = cjdados2.Close,\n",
    "                       )\n",
    "\n",
    "data = [dados]\n",
    "py.offline.iplot(data,filename='grafico_candlestick')"
   ]
  },
  {
   "cell_type": "code",
   "execution_count": null,
   "metadata": {},
   "outputs": [],
   "source": [
    "# Plota a variação no período do conjunto de dados 2010 até 2017.\n",
    "# O camando matplotlib é usado para exibir o gráfico no próprio jupyter notebook.\n",
    "\n",
    "%matplotlib notebook\n",
    "\n",
    "# Importação das bibliotecas que serão utilizadas.\n",
    "\n",
    "import matplotlib.dates as mdates\n",
    "import datetime as dt\n",
    "\n",
    "# Dados para criação do gráfico.\n",
    "\n",
    "x = cjdados['Date']\n",
    "y = cjdados['Variation']\n",
    "plt.plot_date(x,y, color='b',fmt=\"r-\")\n",
    "plt.xticks(rotation=30)\n",
    "plt.show()"
   ]
  },
  {
   "cell_type": "code",
   "execution_count": null,
   "metadata": {},
   "outputs": [],
   "source": [
    "# Criação de uma variável treino que recebe todas as informações do nosso conjunto de dados.\n",
    "# O objeto é deixar os dados anteriores intactos.\n",
    "dadosTreino = cjdados"
   ]
  },
  {
   "cell_type": "code",
   "execution_count": null,
   "metadata": {
    "scrolled": false
   },
   "outputs": [],
   "source": [
    "# Plota a dispersão entre o preço de abertura(Open) e fechamento(Close) dos últimos 100 dias.\n",
    "# Para pegar os últimos dias, podemos observar a sintaxe :100 como parâmetro.\n",
    "\n",
    "%matplotlib notebook\n",
    "\n",
    "x = dadosTreino.Open[:100]\n",
    "y = dadosTreino.Close[:100]\n",
    "plt.scatter(x,y,color='b')\n",
    "plt.xlabel('preco de abertura')\n",
    "plt.ylabel('preco de fechamento')\n",
    "plt.axis([min(x),max(x),min(y),max(y)])\n",
    "plt.autoscale('False')\n",
    "plt.show()"
   ]
  },
  {
   "cell_type": "code",
   "execution_count": null,
   "metadata": {},
   "outputs": [],
   "source": [
    "# Plota a dispersao entre o preço de máxima (high) e fechamento(Close) dos últimos 100 dias.\n",
    "\n",
    "%matplotlib notebook\n",
    "x = dadosTreino.High[:100]\n",
    "y = dadosTreino.Close[:100]\n",
    "plt.scatter(x,y,color='b')\n",
    "plt.xlabel('preco da maxima')\n",
    "plt.ylabel('preco de fechamento')\n",
    "plt.axis([min(x),max(x),min(y),max(y)])\n",
    "plt.autoscale('False')\n",
    "plt.show()"
   ]
  },
  {
   "cell_type": "code",
   "execution_count": null,
   "metadata": {},
   "outputs": [],
   "source": [
    "# Plota a dispersao entre o preço de mínima(Low) e fechamento(Close) dos últimos 100 dias.\n",
    "\n",
    "%matplotlib notebook\n",
    "x = dadosTreino.Low[:100]\n",
    "y = dadosTreino.Close[:100]\n",
    "plt.scatter(x,y,color='b')\n",
    "plt.xlabel('preco de Minima')\n",
    "plt.ylabel('preco de fechamento')\n",
    "plt.axis([min(x),max(x),min(y),max(y)])\n",
    "plt.autoscale('False')\n",
    "plt.show()"
   ]
  },
  {
   "cell_type": "code",
   "execution_count": null,
   "metadata": {},
   "outputs": [],
   "source": [
    "# Plota a dispersao entre o Volume e fechamento(Close) dos últimos 100 dias.\n",
    "\n",
    "% matplotlib notebook\n",
    "x = dadosTreino.Volume[:100]\n",
    "y = dadosTreino.Close[:100]\n",
    "plt.scatter(x,y,color='b')\n",
    "plt.xlabel('Volume')\n",
    "plt.ylabel('preco de fechamento')\n",
    "plt.axis([min(x),max(x),min(y),max(y)])\n",
    "plt.ticklabel_format(style='plain', axis='x')\n",
    "plt.autoscale('False')\n",
    "plt.xticks(rotation=45)\n",
    "plt.show()"
   ]
  },
  {
   "cell_type": "code",
   "execution_count": null,
   "metadata": {},
   "outputs": [],
   "source": [
    "# Vamos criar uma variável feature com os nomes das respectivas colunas.\n",
    "# Criação de uma variável treino para receber as respectivas features.\n",
    "\n",
    "features = ['Open','High','Low','Volume']\n",
    "dadosTreino = dadosTreino[features]"
   ]
  },
  {
   "cell_type": "code",
   "execution_count": null,
   "metadata": {},
   "outputs": [],
   "source": [
    "# Visualizando os dados sem as classes. A nossa classe é a feature de fechamento (close)\n",
    "\n",
    "dadosTreino.head()"
   ]
  },
  {
   "cell_type": "code",
   "execution_count": null,
   "metadata": {},
   "outputs": [],
   "source": [
    "# Criando a variável y para receber o preço de fechamento (classes)\n",
    "y = cjdados['Close']"
   ]
  },
  {
   "cell_type": "code",
   "execution_count": null,
   "metadata": {},
   "outputs": [],
   "source": [
    "# Visualizando o dataframe y com as respectivas classes (fechamento)\n",
    "y"
   ]
  },
  {
   "cell_type": "code",
   "execution_count": null,
   "metadata": {},
   "outputs": [],
   "source": [
    "# Realizando o treinamento do algoritmo de Regressão Linear\n",
    "# Separando os dados de teste e de treino. \n",
    "# Usando o recurso **train_test_split** para separar dados de treino e teste.\n",
    "# Dessa forma o algoritmo é treinado com uma parte dos dados e testado com outra (dados não vistos).\n",
    "# Divisão dos dados de forma aleatória (75% para treino e 25% para teste).\n",
    "\n",
    "X_treino, X_teste, y_treino, y_teste = train_test_split(dadosTreino, y, random_state = 42)"
   ]
  },
  {
   "cell_type": "code",
   "execution_count": null,
   "metadata": {},
   "outputs": [],
   "source": [
    "# Visualizando o dataframe X_treino\n",
    "X_treino.head()"
   ]
  },
  {
   "cell_type": "code",
   "execution_count": null,
   "metadata": {},
   "outputs": [],
   "source": [
    "# Visualizando dados de teste.\n",
    "X_teste.head()"
   ]
  },
  {
   "cell_type": "code",
   "execution_count": null,
   "metadata": {},
   "outputs": [],
   "source": [
    "# Visualizando as classes de treino.\n",
    "y_treino.head()"
   ]
  },
  {
   "cell_type": "code",
   "execution_count": null,
   "metadata": {},
   "outputs": [],
   "source": [
    "# Visualizando as classes do teste.\n",
    "y_teste.head()"
   ]
  },
  {
   "cell_type": "code",
   "execution_count": null,
   "metadata": {},
   "outputs": [],
   "source": [
    "# Cria um objeto do tipo LinearRegression.\n",
    "modeloLr = LinearRegression()"
   ]
  },
  {
   "cell_type": "code",
   "execution_count": null,
   "metadata": {},
   "outputs": [],
   "source": [
    "# Treinando o algoritmo através do método fit.\n",
    "\n",
    "modeloLr.fit(X_treino,y_treino)"
   ]
  },
  {
   "cell_type": "code",
   "execution_count": null,
   "metadata": {},
   "outputs": [],
   "source": [
    "# Visualizando os coeficientes (pesos!)\n",
    "# Interessante observar o valor negativo do peso associado a feature Open (Abertura).\n",
    "\n",
    "modeloLr.coef_"
   ]
  },
  {
   "cell_type": "code",
   "execution_count": null,
   "metadata": {},
   "outputs": [],
   "source": [
    "# Predizendo 10 preços com o método predict.\n",
    "\n",
    "modeloLr.predict(X_teste)[:10]"
   ]
  },
  {
   "cell_type": "code",
   "execution_count": null,
   "metadata": {},
   "outputs": [],
   "source": [
    "# Visualizando preços reais.\n",
    "y_teste[:10]"
   ]
  },
  {
   "cell_type": "code",
   "execution_count": null,
   "metadata": {},
   "outputs": [],
   "source": [
    "%matplotlib notebook\n",
    "\n",
    "# Armazena dados preditos em dataframe.\n",
    "predicoes = pd.DataFrame(modeloLr.predict(X_teste)[:10])\n",
    "\n",
    "# Armazena dados reais em dataframe.\n",
    "y_teste2= pd.DataFrame(y_teste[:10].values)\n",
    "\n",
    "# Define o estilo do gráfico.\n",
    "\n",
    "plt.style.use(\"ggplot\")\n",
    "\n",
    "# Definição de título de eixos do gráfico.\n",
    "\n",
    "plt.xlabel('Preços')\n",
    "plt.ylabel('Indice')\n",
    "plt.title('Precos Reais vs Predições')\n",
    "\n",
    "# Ordena os valores e plota as linhas\n",
    "plt.plot(predicoes.sort_values(by=0),predicoes.index)\n",
    "plt.plot(y_teste2.sort_values(by=0),y_teste2.index)\n",
    "\n",
    "# Define legenda do gráfico\n",
    "plt.legend(['Predições','Preços Reais'])\n"
   ]
  },
  {
   "cell_type": "code",
   "execution_count": null,
   "metadata": {},
   "outputs": [],
   "source": [
    "# Validando o modelo de Regressão Linear.\n",
    "# Métricas de RMSE - utiliza medidas dependentes.\n",
    "\n",
    "y_teste.isnull().sum()"
   ]
  },
  {
   "cell_type": "code",
   "execution_count": null,
   "metadata": {},
   "outputs": [],
   "source": [
    "y_pred = modeloLr.predict(X_teste)"
   ]
  },
  {
   "cell_type": "code",
   "execution_count": null,
   "metadata": {},
   "outputs": [],
   "source": [
    "y_pred.shape"
   ]
  },
  {
   "cell_type": "code",
   "execution_count": null,
   "metadata": {},
   "outputs": [],
   "source": [
    "y_teste.shape"
   ]
  },
  {
   "cell_type": "code",
   "execution_count": null,
   "metadata": {},
   "outputs": [],
   "source": [
    "# Utilizando o mean_squared_error. Significa o erro médio no conjunto de dados.\n",
    "# Quanto mais próximo de 0 melhor.\n",
    "\n",
    "mean_squared_error(y_teste, modeloLr.predict(X_teste))"
   ]
  },
  {
   "cell_type": "code",
   "execution_count": null,
   "metadata": {},
   "outputs": [],
   "source": [
    "# Vamos tentar melhorar os resultados do nosso modelo.\n",
    "# Vamos usar apenas as duas features.\n",
    "# Criando uma nova variável para o novo modelo de predição.\n",
    "\n",
    "modeloLr2 = LinearRegression(normalize=True)"
   ]
  },
  {
   "cell_type": "code",
   "execution_count": null,
   "metadata": {},
   "outputs": [],
   "source": [
    "# A variável features está recebendo apenas o valor de abertura e o valor máximo.\n",
    "\n",
    "features = ['Open','High']\n",
    "dadosTreino2 = dadosTreino[features]"
   ]
  },
  {
   "cell_type": "code",
   "execution_count": null,
   "metadata": {},
   "outputs": [],
   "source": [
    "# Visualizando os dados atráves do método head().\n",
    "# Exibe apenas os 05 primeiros registros.\n",
    "\n",
    "dadosTreino2.head()"
   ]
  },
  {
   "cell_type": "code",
   "execution_count": null,
   "metadata": {},
   "outputs": [],
   "source": [
    "# Separa os dados 75% treino e 25% teste\n",
    "# Essa etapa já foi executada anteriormente.\n",
    "\n",
    "X_treino, X_teste, y_treino, y_teste = train_test_split(dadosTreino2, y, random_state=42)"
   ]
  },
  {
   "cell_type": "code",
   "execution_count": null,
   "metadata": {},
   "outputs": [],
   "source": [
    "# Treinando o algoritmo com apenas duas features.\n",
    "\n",
    "modeloLr2.fit(X_treino,y_treino)"
   ]
  },
  {
   "cell_type": "code",
   "execution_count": null,
   "metadata": {},
   "outputs": [],
   "source": [
    "# Imprimi os pesos dos coeficientes.\n",
    "modeloLr2.coef_"
   ]
  },
  {
   "cell_type": "code",
   "execution_count": null,
   "metadata": {},
   "outputs": [],
   "source": [
    "# Valida o modelo com o RMSE.\n",
    "RMSE = mean_squared_error(y_teste, modeloLr2.predict(X_teste))**0.5\n",
    "RMSE"
   ]
  }
 ],
 "metadata": {
  "kernelspec": {
   "display_name": "Python 3",
   "language": "python",
   "name": "python3"
  },
  "language_info": {
   "codemirror_mode": {
    "name": "ipython",
    "version": 3
   },
   "file_extension": ".py",
   "mimetype": "text/x-python",
   "name": "python",
   "nbconvert_exporter": "python",
   "pygments_lexer": "ipython3",
   "version": "3.6.5"
  }
 },
 "nbformat": 4,
 "nbformat_minor": 2
}
