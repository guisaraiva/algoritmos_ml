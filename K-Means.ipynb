{
 "cells": [
  {
   "cell_type": "code",
   "execution_count": null,
   "metadata": {},
   "outputs": [],
   "source": [
    "# Importando as bibliotecas necessárias para utilização do algoritmo K-Means\n",
    "\n",
    "import pandas as pd\n",
    "import matplotlib.pyplot as plt\n",
    "import seaborn as sns\n",
    "from sklearn.cluster import KMeans"
   ]
  },
  {
   "cell_type": "code",
   "execution_count": null,
   "metadata": {},
   "outputs": [],
   "source": [
    "# Carregando a base de dados Iris para execução do algoritmo.\n",
    "\n",
    "iris = pd.read_csv(\"iris.csv\")"
   ]
  },
  {
   "cell_type": "code",
   "execution_count": null,
   "metadata": {},
   "outputs": [],
   "source": [
    "# Verificando os cinco primeiros registros do dataset\n",
    "\n",
    "iris.head()"
   ]
  },
  {
   "cell_type": "code",
   "execution_count": null,
   "metadata": {},
   "outputs": [],
   "source": [
    "# Plotando a imagem \"exemplo\" que demonstra as features existentes na base de dados.\n",
    "\n",
    "from IPython.display import Image\n",
    "Image(filename =\"iris-data-set.png\", width=500, height=500)"
   ]
  },
  {
   "cell_type": "code",
   "execution_count": null,
   "metadata": {},
   "outputs": [],
   "source": [
    "# Separando os dados e classes do conjunto de dados iris.\n",
    "# Dropei a coluna \"Species\" que armazena a variável target do nosso treinamento.\n",
    "\n",
    "X = iris.drop('Species',axis=1)\n",
    "X[:10]"
   ]
  },
  {
   "cell_type": "code",
   "execution_count": null,
   "metadata": {},
   "outputs": [],
   "source": [
    "# Armazenando a variável target em outra variável para que possamos utilizar depois.\n",
    "# O método unique() exibe apenas as informações existentes na feature Species. \n",
    "# É como se estivesse executando um distinct no banco de dados.\n",
    "\n",
    "y = iris.Species\n",
    "y.unique()"
   ]
  },
  {
   "cell_type": "code",
   "execution_count": null,
   "metadata": {},
   "outputs": [],
   "source": [
    "# Função criada para converter os valores categóricos da classe em números. \n",
    "# O algoritmo é utilizando em variáveis numéricas.\n",
    "# A função é composta de três condições if\n",
    "\n",
    "def converte_classe(l):\n",
    "    if l == 'Iris-virginica':\n",
    "        return 0\n",
    "    elif l == 'Iris-setosa':\n",
    "        return 1\n",
    "    elif l == 'Iris-versicolor':\n",
    "        return 2"
   ]
  },
  {
   "cell_type": "code",
   "execution_count": null,
   "metadata": {},
   "outputs": [],
   "source": [
    "# A variável y recebe o conjunto de features com o método apply(), retornando a função no parâmetro.\n",
    "# O método count para contar os respectivos valores\n",
    "\n",
    "y = y.apply(converte_classe)\n",
    "y.value_counts()"
   ]
  },
  {
   "cell_type": "code",
   "execution_count": null,
   "metadata": {},
   "outputs": [],
   "source": [
    "# Instânciando o algoritmo K-Means com 3 clusters.\n",
    "# A documentação ajuda a compreender melhor.\n",
    "# Link: https://scikit-learn.org/stable/modules/generated/sklearn.cluster.KMeans.html\n",
    "\n",
    "kmeans = KMeans(n_clusters = 3, init = 'random')"
   ]
  },
  {
   "cell_type": "code",
   "execution_count": null,
   "metadata": {},
   "outputs": [],
   "source": [
    "# Treinando o algoritmo com o método .fit.\n",
    "\n",
    "kmeans.fit(X)"
   ]
  },
  {
   "cell_type": "code",
   "execution_count": null,
   "metadata": {},
   "outputs": [],
   "source": [
    "# Verificando os centroids através do cluster_centers.\n",
    "# Estes centroids são pontos de dados que serão utilizados, como o nome sugere, de pontos centrais dos clusters.\n",
    "# Maiores detalhes no blog Mineirando dados.\n",
    "# Link: https://minerandodados.com.br/entenda-o-algoritmo-k-means/\n",
    "\n",
    "kmeans.cluster_centers_"
   ]
  },
  {
   "cell_type": "code",
   "execution_count": null,
   "metadata": {},
   "outputs": [],
   "source": [
    "# Criando a variável distância com o método fit_transform\n",
    "\n",
    "distance = kmeans.fit_transform(X)\n",
    "distance"
   ]
  },
  {
   "cell_type": "code",
   "execution_count": null,
   "metadata": {},
   "outputs": [],
   "source": [
    "distance[0]"
   ]
  },
  {
   "cell_type": "code",
   "execution_count": null,
   "metadata": {},
   "outputs": [],
   "source": [
    "# Visualizando valores de distância para cada cluster.\n",
    "# Usando o matplotlib para plotar o gráfico.\n",
    "# Gráfico do tipo barras horizontais.\n",
    "\n",
    "%matplotlib notebook\n",
    "x = ['Cluster 0','Cluster 1','Cluster 2']\n",
    "plt.barh(x,distance[0])\n",
    "plt.xlabel('Distância')\n",
    "plt.title('Distância por Clusters ')\n",
    "plt.show()"
   ]
  },
  {
   "cell_type": "code",
   "execution_count": null,
   "metadata": {},
   "outputs": [],
   "source": [
    "# Imprimindo os respectivos labels.\n",
    "# Podemos observar que ele transformou cada \"Specie\" em um valor numérico.\n",
    "\n",
    "labels = kmeans.labels_\n",
    "labels"
   ]
  },
  {
   "cell_type": "code",
   "execution_count": null,
   "metadata": {},
   "outputs": [],
   "source": [
    "# Visualizando os centroids através do gráfico.\n",
    "# Os centroids são os pontos em vermelho.\n",
    "\n",
    "%matplotlib notebook\n",
    "plt.figure(figsize=(8,6))\n",
    "plt.scatter(X['SepalLength'], X['SepalWidth'], s = 100, c = kmeans.labels_)\n",
    "plt.scatter(kmeans.cluster_centers_[:, 0], kmeans.cluster_centers_[:, 1], s = 300, c = 'red',label = 'Centroids')\n",
    "plt.title('Dataset Iris e Centroids')\n",
    "plt.xlabel('SepalLength')\n",
    "plt.ylabel('SepalWidth')\n",
    "plt.show()"
   ]
  },
  {
   "cell_type": "code",
   "execution_count": null,
   "metadata": {},
   "outputs": [],
   "source": [
    "# Criando um agrupamento com dados aleatórios. \n",
    "# Chamamos o método predict passando como parâmetro os dados aleatórios.\n",
    "\n",
    "data = [\n",
    "        [ 4.12, 3.4, 1.6, 0.7],\n",
    "        [ 5.2, 5.8, 5.2, 6.7],\n",
    "        [ 3.1, 3.5, 3.3, 3.0]\n",
    "    ]\n",
    "kmeans.predict(data)"
   ]
  },
  {
   "cell_type": "code",
   "execution_count": null,
   "metadata": {
    "scrolled": false
   },
   "outputs": [],
   "source": [
    "# Visualizando os respectivos resultados através do gráfico.\n",
    "# Podemos observar que o gráfico exibe os resultados originais e o resultado do algoritmo.\n",
    "\n",
    "%matplotlib notebook\n",
    "f,(ax1, ax2) = plt.subplots(1, 2, sharey=True, figsize=(8,6))\n",
    "ax1.set_title('Original')\n",
    "ax1.scatter(X['SepalLength'], X['SepalWidth'],s=150,c=sorted(y))\n",
    "ax2.set_title('KMeans')\n",
    "ax2.scatter(X['SepalLength'], X['SepalWidth'],s=150,c=sorted(kmeans.labels_))"
   ]
  },
  {
   "cell_type": "code",
   "execution_count": null,
   "metadata": {},
   "outputs": [],
   "source": [
    "# Utilizamos o método Elbow para estimar o valor do parâmetro K.\n",
    "# Um for para criar um range de valores.\n",
    "\n",
    "%matplotlib notebook\n",
    "wcss = []\n",
    "\n",
    "for i in range(1, 11):\n",
    "    kmeans2 = KMeans(n_clusters = i, init = 'random')\n",
    "    kmeans2.fit(X)\n",
    "    print (i,kmeans2.inertia_)\n",
    "    wcss.append(kmeans2.inertia_)\n",
    "    \n",
    "plt.plot(range(1, 11), wcss)\n",
    "plt.title('O Metodo Elbow')\n",
    "plt.xlabel('Numero de Clusters')\n",
    "plt.ylabel('WSS') \n",
    "plt.show()"
   ]
  },
  {
   "cell_type": "code",
   "execution_count": null,
   "metadata": {},
   "outputs": [],
   "source": [
    "# Verificando as informações com a Matriz de confusão.\n",
    "\n",
    "print (pd.crosstab(y,kmeans.labels_, rownames=['Real'], colnames=['Predito'], margins=True))"
   ]
  },
  {
   "cell_type": "code",
   "execution_count": null,
   "metadata": {},
   "outputs": [],
   "source": [
    "# Utilizamos uma métrica de classificação.\n",
    "# O pacote metrics do ScikitLearn.\n",
    "\n",
    "from sklearn import metrics\n",
    "clusters = ['Cluster 2','Cluster 1','Cluster 0']\n",
    "print(metrics.classification_report(y,kmeans.labels_,target_names=clusters))"
   ]
  }
 ],
 "metadata": {
  "kernelspec": {
   "display_name": "Python 3",
   "language": "python",
   "name": "python3"
  },
  "language_info": {
   "codemirror_mode": {
    "name": "ipython",
    "version": 3
   },
   "file_extension": ".py",
   "mimetype": "text/x-python",
   "name": "python",
   "nbconvert_exporter": "python",
   "pygments_lexer": "ipython3",
   "version": "3.6.5"
  }
 },
 "nbformat": 4,
 "nbformat_minor": 2
}
